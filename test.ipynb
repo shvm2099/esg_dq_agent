{
 "cells": [
  {
   "cell_type": "code",
   "execution_count": 3,
   "id": "0f49a326",
   "metadata": {},
   "outputs": [
    {
     "name": "stdout",
     "output_type": "stream",
     "text": [
      "Document loaded successfully!\n",
      "---- Preview ----\n",
      "T echNova \n",
      "Executive Summary \n",
      "This Environmental, Social, and Governance (ESG) report presents a \n",
      "comprehensive overview of TechNova International’s sustainability performance \n",
      "for the fiscal year ending December 31, 2024. Prepared in accordance with the \n",
      "Global Reporting Initiative (GRI) Standards, this report details our progress, \n",
      "challenges, and future commitments across key ESG dimensions. As a global \n",
      "technology leader, TechNova International recognizes its responsibility to drive \n",
      "positive change, foster innovation, and uphold ethical standards in all aspects of \n",
      "its operations. This year, we achieved a 17 percent reduction in Scope 1 and 2 \n",
      "greenhouse gas emissions, increased the representation of women and \n",
      "underrepresented minorities in our workforce by 8 percent, and strengthened our \n",
      "governance framework to enhance transparency and accountability. We engaged \n",
      "with over 2,000 stakeholders worldwide to identify material topics and inform \n",
      "our sustainability strategy. Our comm\n"
     ]
    }
   ],
   "source": [
    "from langchain_core.documents import Document\n",
    "from langchain_community.document_loaders import PyPDFLoader, TextLoader, UnstructuredWordDocumentLoader\n",
    "import os\n",
    "\n",
    "def load_document(file_path: str) -> list[Document]:\n",
    "    ext = os.path.splitext(file_path)[-1].lower()\n",
    "\n",
    "    if ext == \".pdf\":\n",
    "        loader = PyPDFLoader(file_path)\n",
    "    elif ext == \".docx\":\n",
    "        loader = UnstructuredWordDocumentLoader(file_path)\n",
    "    elif ext == \".txt\":\n",
    "        loader = TextLoader(file_path)\n",
    "    else:\n",
    "        raise ValueError(f\"Unsupported file format: {ext}\")\n",
    "\n",
    "    return loader.load()\n",
    "\n",
    "def text_from_doc(document):\n",
    "    text = \"\\n\\n\".join([doc.page_content for doc in document])\n",
    "    return text\n",
    "\n",
    "if __name__ == \"__main__\":\n",
    "    test_file = \"backend/reference_docs/ref2.pdf\"\n",
    "    docs = load_document(test_file)\n",
    "    full_text = text_from_doc(docs)\n",
    "\n",
    "    print(\"Document loaded successfully!\")\n",
    "    print(\"---- Preview ----\")\n",
    "    print(full_text[:1000])  \n"
   ]
  },
  {
   "cell_type": "code",
   "execution_count": null,
   "id": "e4a4238d",
   "metadata": {},
   "outputs": [],
   "source": []
  }
 ],
 "metadata": {
  "kernelspec": {
   "display_name": "esg_env",
   "language": "python",
   "name": "python3"
  },
  "language_info": {
   "codemirror_mode": {
    "name": "ipython",
    "version": 3
   },
   "file_extension": ".py",
   "mimetype": "text/x-python",
   "name": "python",
   "nbconvert_exporter": "python",
   "pygments_lexer": "ipython3",
   "version": "3.10.17"
  }
 },
 "nbformat": 4,
 "nbformat_minor": 5
}
